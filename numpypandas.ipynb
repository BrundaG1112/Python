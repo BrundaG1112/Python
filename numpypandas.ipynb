{
  "nbformat": 4,
  "nbformat_minor": 0,
  "metadata": {
    "colab": {
      "provenance": []
    },
    "kernelspec": {
      "name": "python3",
      "display_name": "Python 3"
    },
    "language_info": {
      "name": "python"
    }
  },
  "cells": [
    {
      "cell_type": "markdown",
      "source": [
        "\n",
        "\n",
        "```\n",
        "# 1. Develop a python program to utilize NumPy and perform the following operations\n",
        "a. Read and Print 1D array\n",
        "b. Read two 1D array and display the common numbers present in both the\n",
        "arrays.\n",
        "c. Read 1D array with 12 elements and convert it into 2D array of size (2, 6) and\n",
        "(3, 4).\n",
        "d. Read 1D array with 12 elements and convert it into 3D array.\n",
        "e. Split the 1D array into 2, 3 and 4 arrays.\n",
        "f. Demonstrate the concatenation of two 1D array.\n",
        "g. Sort the 1D array in ascending and descending order.\n",
        "h. Display all the even numbers of 1D array.\n",
        "```\n",
        "\n"
      ],
      "metadata": {
        "id": "qQjvbls9h694"
      }
    },
    {
      "cell_type": "markdown",
      "source": [
        "**Read and Print 1D array**"
      ],
      "metadata": {
        "id": "vjstM2_vU51P"
      }
    },
    {
      "cell_type": "code",
      "source": [
        "import numpy as np\n",
        "arr = np.array(input(\"Enter the elements of the array (space-separated): \").split(), dtype=int)\n",
        "print(\"1D Array:\", arr)\n",
        "print(type(arr))\n"
      ],
      "metadata": {
        "colab": {
          "base_uri": "https://localhost:8080/"
        },
        "id": "4w22u4yMVAXi",
        "outputId": "be3f152c-fcd5-440a-bc1c-1039c4aac765"
      },
      "execution_count": 5,
      "outputs": [
        {
          "output_type": "stream",
          "name": "stdout",
          "text": [
            "Enter the elements of the array (space-separated): 2 5 6 5\n",
            "1D Array: [2 5 6 5]\n",
            "<class 'numpy.ndarray'>\n"
          ]
        }
      ]
    },
    {
      "cell_type": "markdown",
      "source": [
        "\n",
        "**Read two 1D array and display the common numbers present in both the\n",
        "arrays.**\n"
      ],
      "metadata": {
        "id": "GrllW-BlWUoH"
      }
    },
    {
      "cell_type": "code",
      "source": [
        "import numpy as np\n",
        "def read_1d_array():\n",
        "    arr = np.array(input(\"Enter the elements of the array (space-separated): \").split(), dtype=int)\n",
        "    return arr\n",
        "def find_common_numbers(arr1, arr2):\n",
        "    common = np.intersect1d(arr1, arr2)\n",
        "    return common\n",
        "\n",
        "arr1 = read_1d_array()\n",
        "arr2 = read_1d_array()\n",
        "\n",
        "# Find and display the common numbers\n",
        "common_numbers = find_common_numbers(arr1, arr2)\n",
        "print(\"Common Numbers:\", common_numbers)\n",
        "\n"
      ],
      "metadata": {
        "colab": {
          "base_uri": "https://localhost:8080/"
        },
        "id": "k3umNDCkUf8e",
        "outputId": "f188bfc6-b1d7-4e32-eff8-78b5cc9aaa98"
      },
      "execution_count": 6,
      "outputs": [
        {
          "output_type": "stream",
          "name": "stdout",
          "text": [
            "Enter the elements of the array (space-separated): 1 2 3 4 5 6\n",
            "Enter the elements of the array (space-separated): 5 6 7 8 9\n",
            "Common Numbers: [5 6]\n"
          ]
        }
      ]
    },
    {
      "cell_type": "markdown",
      "source": [
        "The np.intersect1d() function from NumPy is used to find the common numbers between two 1D arrays. It takes the two arrays as input and returns a new array containing the common elements."
      ],
      "metadata": {
        "id": "DXPhIM1sY_b0"
      }
    },
    {
      "cell_type": "markdown",
      "source": [
        "**Read 1D array with 12 elements and convert it into 2D array of size (2, 6) and\n",
        "(3, 4)**"
      ],
      "metadata": {
        "id": "VdCY2HaOZLVZ"
      }
    },
    {
      "cell_type": "code",
      "source": [
        "import numpy as np\n",
        "\n",
        "def read_1d_array():\n",
        "    arr = np.array(input(\"Enter 12 elements of the array (space-separated): \").split(), dtype=int)\n",
        "    return arr\n",
        "\n",
        "def convert_to_2d(arr):\n",
        "    arr_2d_1 = arr.reshape(2, 6)\n",
        "    arr_2d_2 = arr.reshape(3, 4)\n",
        "    return arr_2d_1, arr_2d_2\n",
        "\n",
        "arr = read_1d_array()\n",
        "\n",
        "# Convert the array to 2D arrays\n",
        "arr_2d_1, arr_2d_2 = convert_to_2d(arr)\n",
        "\n",
        "# Display the 2D arrays\n",
        "print(\"2D Array (2, 6):\")\n",
        "print(arr_2d_1)\n",
        "print(\"2D Array (3, 4):\")\n",
        "print(arr_2d_2)\n"
      ],
      "metadata": {
        "colab": {
          "base_uri": "https://localhost:8080/"
        },
        "id": "EZVtd6gBZFCL",
        "outputId": "2886260d-4721-48de-c3f8-2527ce19553d"
      },
      "execution_count": 7,
      "outputs": [
        {
          "output_type": "stream",
          "name": "stdout",
          "text": [
            "Enter 12 elements of the array (space-separated): 1 2 3 4 5 6 7 8 9 10 11 12\n",
            "2D Array (2, 6):\n",
            "[[ 1  2  3  4  5  6]\n",
            " [ 7  8  9 10 11 12]]\n",
            "2D Array (3, 4):\n",
            "[[ 1  2  3  4]\n",
            " [ 5  6  7  8]\n",
            " [ 9 10 11 12]]\n"
          ]
        }
      ]
    },
    {
      "cell_type": "markdown",
      "source": [
        "**Read 1D array with 12 elements and convert it into 3D array.**"
      ],
      "metadata": {
        "id": "XM6byBBbaVAz"
      }
    },
    {
      "cell_type": "code",
      "source": [
        "import numpy as np\n",
        "\n",
        "def read_1d_array():\n",
        "    arr = np.array(input(\"Enter the elements of the array (space-separated): \").split(), dtype=int)\n",
        "    return arr\n",
        "\n",
        "def convert_to_3d(arr):\n",
        "    arr_3d = arr.reshape(2,3,2)\n",
        "    return arr_3d\n",
        "\n",
        "arr = read_1d_array()\n",
        "arr_3d = convert_to_3d(arr)\n",
        "\n",
        "print(\"3D Array:\")\n",
        "print(arr_3d)\n"
      ],
      "metadata": {
        "colab": {
          "base_uri": "https://localhost:8080/"
        },
        "id": "AK3nyLiXZHgL",
        "outputId": "bcf93482-f324-476d-aaee-13bf5d704133"
      },
      "execution_count": 11,
      "outputs": [
        {
          "output_type": "stream",
          "name": "stdout",
          "text": [
            "Enter the elements of the array (space-separated): 1 2 3 4 5 6 7 8 9 10 11 12\n",
            "3D Array:\n",
            "[[[ 1  2]\n",
            "  [ 3  4]\n",
            "  [ 5  6]]\n",
            "\n",
            " [[ 7  8]\n",
            "  [ 9 10]\n",
            "  [11 12]]]\n"
          ]
        }
      ]
    },
    {
      "cell_type": "code",
      "source": [],
      "metadata": {
        "id": "dSEceMwdZHr7"
      },
      "execution_count": null,
      "outputs": []
    },
    {
      "cell_type": "code",
      "source": [
        "import numpy as np\n",
        "\n",
        "def read_1d_array():\n",
        "    arr = np.array(input(\"Enter the elements of the array (space-separated): \").split(), dtype=int)\n",
        "    return arr\n",
        "\n",
        "def split_array(arr,n):\n",
        "    split_arr = np.split(arr, n)\n",
        "    return split_arr\n",
        "\n",
        "# Read the 1D array with 12 elements\n",
        "arr = read_1d_array()\n",
        "\n",
        "\n",
        "arr_2 = split_array(arr, 2)\n",
        "arr_3 = split_array(arr, 3)\n",
        "arr_4 = split_array(arr, 4)\n",
        "\n",
        "# Display the 2D array\n",
        "\n",
        "print(arr_2)\n",
        "print()\n",
        "print(arr_3)\n",
        "print()\n",
        "print(arr_4)\n"
      ],
      "metadata": {
        "colab": {
          "base_uri": "https://localhost:8080/"
        },
        "id": "VXXR9Ec7ZH36",
        "outputId": "08e2deb9-2cee-4211-c225-d6ba3ea906c6"
      },
      "execution_count": 18,
      "outputs": [
        {
          "output_type": "stream",
          "name": "stdout",
          "text": [
            "Enter the elements of the array (space-separated): 1 2 3 4 5 6 7 8 9 1 0 2\n",
            "[array([1, 2, 3, 4, 5, 6]), array([7, 8, 9, 1, 0, 2])]\n",
            "\n",
            "[array([1, 2, 3, 4]), array([5, 6, 7, 8]), array([9, 1, 0, 2])]\n",
            "\n",
            "[array([1, 2, 3]), array([4, 5, 6]), array([7, 8, 9]), array([1, 0, 2])]\n"
          ]
        }
      ]
    },
    {
      "cell_type": "markdown",
      "source": [
        "**Demonstrate the concatenation of two 1D array**"
      ],
      "metadata": {
        "id": "DHiJJjGQh2u3"
      }
    },
    {
      "cell_type": "code",
      "source": [
        "import numpy as np\n",
        "\n",
        "def read_1d_array():\n",
        "    arr = np.array(input(\"Enter the elements of the array (space-separated): \").split(), dtype=int)\n",
        "    return arr\n",
        "\n",
        "def concatenate_arrays(arr1, arr2):\n",
        "    concatenated = np.concatenate((arr1, arr2))\n",
        "    return concatenated\n",
        "\n",
        "arr1 = read_1d_array()\n",
        "\n",
        "arr2 = read_1d_array()\n",
        "\n",
        "concatenated_array = concatenate_arrays(arr1, arr2)\n",
        "\n",
        "print(\"Concatenated Array:\")\n",
        "print(concatenated_array)\n"
      ],
      "metadata": {
        "colab": {
          "base_uri": "https://localhost:8080/"
        },
        "id": "MkFY3ITmhwRM",
        "outputId": "24116d10-9c63-4125-b6fc-7653530eda1d"
      },
      "execution_count": 21,
      "outputs": [
        {
          "output_type": "stream",
          "name": "stdout",
          "text": [
            "Enter the elements of the array (space-separated): 1 2 3\n",
            "Enter the elements of the array (space-separated): 4 5 6\n",
            "Concatenated Array:\n",
            "[1 2 3 4 5 6]\n"
          ]
        }
      ]
    },
    {
      "cell_type": "markdown",
      "source": [
        "**Sort the 1D array in ascending and descending order.**"
      ],
      "metadata": {
        "id": "VChsdXVii_jE"
      }
    },
    {
      "cell_type": "code",
      "source": [
        "import numpy as np\n",
        "\n",
        "def read_1d_array():\n",
        "    arr = np.array(input(\"Enter the elements of the array (space-separated): \").split(), dtype=int)\n",
        "    return arr\n",
        "\n",
        "def sort_array(arr):\n",
        "    sorted_asc = np.sort(arr)\n",
        "    sorted_desc = np.sort(arr)[::-1]\n",
        "    return sorted_asc, sorted_desc\n",
        "\n",
        "arr = read_1d_array()\n",
        "\n",
        "sorted_asc, sorted_desc = sort_array(arr)\n",
        "\n",
        "print(\"Sorted Array (Ascending Order):\")\n",
        "print(sorted_asc)\n",
        "print(\"Sorted Array (Descending Order):\")\n",
        "print(sorted_desc)\n"
      ],
      "metadata": {
        "colab": {
          "base_uri": "https://localhost:8080/"
        },
        "id": "PPzXdLZMhw0G",
        "outputId": "9b1f695f-e07f-48fb-9ffb-2fad882e0fb0"
      },
      "execution_count": 23,
      "outputs": [
        {
          "output_type": "stream",
          "name": "stdout",
          "text": [
            "Enter the elements of the array (space-separated): 1 8 5 6 7 9 55 44 6 66\n",
            "Sorted Array (Ascending Order):\n",
            "[ 1  5  6  6  7  8  9 44 55 66]\n",
            "Sorted Array (Descending Order):\n",
            "[66 55 44  9  8  7  6  6  5  1]\n"
          ]
        }
      ]
    },
    {
      "cell_type": "markdown",
      "source": [
        "**Display all the even numbers of 1D arra**"
      ],
      "metadata": {
        "id": "lROakIOQjdnj"
      }
    },
    {
      "cell_type": "code",
      "source": [
        "import numpy as np\n",
        "\n",
        "def read_1d_array():\n",
        "    arr = np.array(input(\"Enter the elements of the array (space-separated): \").split(), dtype=int)\n",
        "    return arr\n",
        "\n",
        "def get_even_numbers(arr):\n",
        "    even_nums = arr[arr % 2 == 0]\n",
        "    return even_nums\n",
        "\n",
        "arr = read_1d_array()\n",
        "\n",
        "even_numbers = get_even_numbers(arr)\n",
        "\n",
        "print(\"Even Numbers:\", even_numbers)\n"
      ],
      "metadata": {
        "colab": {
          "base_uri": "https://localhost:8080/"
        },
        "id": "qdgQXjCGjOJv",
        "outputId": "2e9fd32d-e3f6-498a-8eea-012375df21ed"
      },
      "execution_count": 22,
      "outputs": [
        {
          "output_type": "stream",
          "name": "stdout",
          "text": [
            "Enter the elements of the array (space-separated): 1 2 3 4 5 6 7 8 9\n",
            "Even Numbers: [2 4 6 8]\n"
          ]
        }
      ]
    },
    {
      "cell_type": "code",
      "source": [],
      "metadata": {
        "id": "1NapA7XQjOjG"
      },
      "execution_count": null,
      "outputs": []
    }
  ]
}